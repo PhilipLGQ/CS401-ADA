{
 "cells": [
  {
   "cell_type": "markdown",
   "metadata": {},
   "source": [
    "### Welcome to the exercise about observational studies! This exercise will be hands on, and you will be able to practise the skills you developed so far!"
   ]
  },
  {
   "cell_type": "markdown",
   "metadata": {},
   "source": [
    "## Propensity score matching\n",
    "\n",
    "In this exercise, you will apply [propensity score matching](http://www.stewartschultz.com/statistics/books/Design%20of%20observational%20studies.pdf), which we discussed in lecture 6 (\"Observational studies\"), in order to draw conclusions from an observational study.\n",
    "\n",
    "We will work with a by-now classic dataset from Robert LaLonde's study \"[Evaluating the Econometric Evaluations of Training Programs](http://people.hbs.edu/nashraf/LaLonde_1986.pdf)\" (1986).\n",
    "The study investigated the effect of a job training program (\"National Supported Work Demonstration\") on the real earnings of an individual, a couple of years after completion of the program.\n",
    "Your task is to determine the effectiveness of the \"treatment\" represented by the job training program."
   ]
  },
  {
   "cell_type": "markdown",
   "metadata": {},
   "source": [
    "#### Dataset description\n",
    "\n",
    "- `treat`: 1 if the subject participated in the job training program, 0 otherwise\n",
    "- `age`: the subject's age\n",
    "- `educ`: years of education\n",
    "- `race`: categorical variable with three possible values: Black, Hispanic, or White\n",
    "- `married`: 1 if the subject was married at the time of the training program, 0 otherwise\n",
    "- `nodegree`: 1 if the subject has earned no school degree, 0 otherwise\n",
    "- `re74`: real earnings in 1974 (pre-treatment)\n",
    "- `re75`: real earnings in 1975 (pre-treatment)\n",
    "- `re78`: real earnings in 1978 (outcome)"
   ]
  },
  {
   "cell_type": "markdown",
   "metadata": {},
   "source": [
    "If you want to deepen your knowledge on propensity scores and observational studies, we highly recommend Rosenbaum's excellent book on the [\"Design of Observational Studies\"](http://www.stewartschultz.com/statistics/books/Design%20of%20observational%20studies.pdf). Even just reading the first chapter (18 pages) will help you a lot."
   ]
  },
  {
   "cell_type": "code",
   "execution_count": 97,
   "metadata": {
    "tags": []
   },
   "outputs": [],
   "source": [
    "import pandas as pd\n",
    "import numpy as np\n",
    "import matplotlib.pyplot as plt\n",
    "import seaborn as sns\n",
    "import networkx as nx\n",
    "%matplotlib inline\n",
    "\n",
    "data_folder = './data/'\n",
    "df = pd.read_csv(data_folder + 'lalonde.csv')"
   ]
  },
  {
   "cell_type": "code",
   "execution_count": 4,
   "metadata": {},
   "outputs": [
    {
     "data": {
      "text/html": [
       "<div>\n",
       "<style scoped>\n",
       "    .dataframe tbody tr th:only-of-type {\n",
       "        vertical-align: middle;\n",
       "    }\n",
       "\n",
       "    .dataframe tbody tr th {\n",
       "        vertical-align: top;\n",
       "    }\n",
       "\n",
       "    .dataframe thead th {\n",
       "        text-align: right;\n",
       "    }\n",
       "</style>\n",
       "<table border=\"1\" class=\"dataframe\">\n",
       "  <thead>\n",
       "    <tr style=\"text-align: right;\">\n",
       "      <th></th>\n",
       "      <th>id</th>\n",
       "      <th>treat</th>\n",
       "      <th>age</th>\n",
       "      <th>educ</th>\n",
       "      <th>black</th>\n",
       "      <th>hispan</th>\n",
       "      <th>married</th>\n",
       "      <th>nodegree</th>\n",
       "      <th>re74</th>\n",
       "      <th>re75</th>\n",
       "      <th>re78</th>\n",
       "    </tr>\n",
       "  </thead>\n",
       "  <tbody>\n",
       "    <tr>\n",
       "      <th>43</th>\n",
       "      <td>NSW44</td>\n",
       "      <td>1</td>\n",
       "      <td>18</td>\n",
       "      <td>8</td>\n",
       "      <td>0</td>\n",
       "      <td>1</td>\n",
       "      <td>1</td>\n",
       "      <td>1</td>\n",
       "      <td>0.000</td>\n",
       "      <td>0.000</td>\n",
       "      <td>2787.9600</td>\n",
       "    </tr>\n",
       "    <tr>\n",
       "      <th>310</th>\n",
       "      <td>PSID126</td>\n",
       "      <td>0</td>\n",
       "      <td>27</td>\n",
       "      <td>12</td>\n",
       "      <td>0</td>\n",
       "      <td>0</td>\n",
       "      <td>1</td>\n",
       "      <td>0</td>\n",
       "      <td>4043.927</td>\n",
       "      <td>3231.532</td>\n",
       "      <td>7240.8600</td>\n",
       "    </tr>\n",
       "    <tr>\n",
       "      <th>164</th>\n",
       "      <td>NSW165</td>\n",
       "      <td>1</td>\n",
       "      <td>29</td>\n",
       "      <td>12</td>\n",
       "      <td>1</td>\n",
       "      <td>0</td>\n",
       "      <td>0</td>\n",
       "      <td>0</td>\n",
       "      <td>9748.387</td>\n",
       "      <td>4878.937</td>\n",
       "      <td>10976.5100</td>\n",
       "    </tr>\n",
       "    <tr>\n",
       "      <th>579</th>\n",
       "      <td>PSID395</td>\n",
       "      <td>0</td>\n",
       "      <td>53</td>\n",
       "      <td>12</td>\n",
       "      <td>0</td>\n",
       "      <td>0</td>\n",
       "      <td>0</td>\n",
       "      <td>0</td>\n",
       "      <td>0.000</td>\n",
       "      <td>0.000</td>\n",
       "      <td>0.0000</td>\n",
       "    </tr>\n",
       "    <tr>\n",
       "      <th>601</th>\n",
       "      <td>PSID417</td>\n",
       "      <td>0</td>\n",
       "      <td>16</td>\n",
       "      <td>8</td>\n",
       "      <td>0</td>\n",
       "      <td>1</td>\n",
       "      <td>0</td>\n",
       "      <td>1</td>\n",
       "      <td>0.000</td>\n",
       "      <td>0.000</td>\n",
       "      <td>12242.9600</td>\n",
       "    </tr>\n",
       "    <tr>\n",
       "      <th>452</th>\n",
       "      <td>PSID268</td>\n",
       "      <td>0</td>\n",
       "      <td>16</td>\n",
       "      <td>9</td>\n",
       "      <td>1</td>\n",
       "      <td>0</td>\n",
       "      <td>0</td>\n",
       "      <td>1</td>\n",
       "      <td>0.000</td>\n",
       "      <td>277.500</td>\n",
       "      <td>3983.9510</td>\n",
       "    </tr>\n",
       "    <tr>\n",
       "      <th>135</th>\n",
       "      <td>NSW136</td>\n",
       "      <td>1</td>\n",
       "      <td>31</td>\n",
       "      <td>9</td>\n",
       "      <td>1</td>\n",
       "      <td>0</td>\n",
       "      <td>0</td>\n",
       "      <td>1</td>\n",
       "      <td>0.000</td>\n",
       "      <td>1698.607</td>\n",
       "      <td>10363.2700</td>\n",
       "    </tr>\n",
       "    <tr>\n",
       "      <th>612</th>\n",
       "      <td>PSID428</td>\n",
       "      <td>0</td>\n",
       "      <td>32</td>\n",
       "      <td>5</td>\n",
       "      <td>1</td>\n",
       "      <td>0</td>\n",
       "      <td>1</td>\n",
       "      <td>1</td>\n",
       "      <td>0.000</td>\n",
       "      <td>0.000</td>\n",
       "      <td>187.6713</td>\n",
       "    </tr>\n",
       "    <tr>\n",
       "      <th>50</th>\n",
       "      <td>NSW51</td>\n",
       "      <td>1</td>\n",
       "      <td>28</td>\n",
       "      <td>8</td>\n",
       "      <td>1</td>\n",
       "      <td>0</td>\n",
       "      <td>0</td>\n",
       "      <td>1</td>\n",
       "      <td>0.000</td>\n",
       "      <td>0.000</td>\n",
       "      <td>0.0000</td>\n",
       "    </tr>\n",
       "    <tr>\n",
       "      <th>88</th>\n",
       "      <td>NSW89</td>\n",
       "      <td>1</td>\n",
       "      <td>21</td>\n",
       "      <td>12</td>\n",
       "      <td>0</td>\n",
       "      <td>0</td>\n",
       "      <td>0</td>\n",
       "      <td>0</td>\n",
       "      <td>0.000</td>\n",
       "      <td>0.000</td>\n",
       "      <td>8048.6030</td>\n",
       "    </tr>\n",
       "  </tbody>\n",
       "</table>\n",
       "</div>"
      ],
      "text/plain": [
       "          id  treat  age  educ  black  hispan  married  nodegree      re74  \\\n",
       "43     NSW44      1   18     8      0       1        1         1     0.000   \n",
       "310  PSID126      0   27    12      0       0        1         0  4043.927   \n",
       "164   NSW165      1   29    12      1       0        0         0  9748.387   \n",
       "579  PSID395      0   53    12      0       0        0         0     0.000   \n",
       "601  PSID417      0   16     8      0       1        0         1     0.000   \n",
       "452  PSID268      0   16     9      1       0        0         1     0.000   \n",
       "135   NSW136      1   31     9      1       0        0         1     0.000   \n",
       "612  PSID428      0   32     5      1       0        1         1     0.000   \n",
       "50     NSW51      1   28     8      1       0        0         1     0.000   \n",
       "88     NSW89      1   21    12      0       0        0         0     0.000   \n",
       "\n",
       "         re75        re78  \n",
       "43      0.000   2787.9600  \n",
       "310  3231.532   7240.8600  \n",
       "164  4878.937  10976.5100  \n",
       "579     0.000      0.0000  \n",
       "601     0.000  12242.9600  \n",
       "452   277.500   3983.9510  \n",
       "135  1698.607  10363.2700  \n",
       "612     0.000    187.6713  \n",
       "50      0.000      0.0000  \n",
       "88      0.000   8048.6030  "
      ]
     },
     "execution_count": 4,
     "metadata": {},
     "output_type": "execute_result"
    }
   ],
   "source": [
    "df.sample(10)"
   ]
  },
  {
   "cell_type": "markdown",
   "metadata": {},
   "source": [
    "## 1. A naive analysis\n",
    "\n",
    "Compare the distribution of the outcome variable (`re78`) between the two groups, using plots and numbers.\n",
    "To summarize and compare the distributions, you may use the techniques we discussed in lecture 4 (\"Descibing data\") and 3 (\"Visualizing data\").\n",
    "\n",
    "What might a naive \"researcher\" conclude from this superficial analysis?"
   ]
  },
  {
   "cell_type": "code",
   "execution_count": 79,
   "metadata": {
    "tags": []
   },
   "outputs": [],
   "source": [
    "''' your code and explanations '''\n",
    "# Separate the two groups based on treat (1 or 0)\n",
    "treat_group = df.loc[df['treat'] == 1]\n",
    "control_group = df.loc[df['treat'] == 0]\n",
    "\n",
    "#treat_group.sample(10)\n",
    "#control_group.sample(10)"
   ]
  },
  {
   "cell_type": "code",
   "execution_count": 7,
   "metadata": {},
   "outputs": [
    {
     "data": {
      "text/html": [
       "<div>\n",
       "<style scoped>\n",
       "    .dataframe tbody tr th:only-of-type {\n",
       "        vertical-align: middle;\n",
       "    }\n",
       "\n",
       "    .dataframe tbody tr th {\n",
       "        vertical-align: top;\n",
       "    }\n",
       "\n",
       "    .dataframe thead th {\n",
       "        text-align: right;\n",
       "    }\n",
       "</style>\n",
       "<table border=\"1\" class=\"dataframe\">\n",
       "  <thead>\n",
       "    <tr style=\"text-align: right;\">\n",
       "      <th></th>\n",
       "      <th>re78</th>\n",
       "    </tr>\n",
       "  </thead>\n",
       "  <tbody>\n",
       "    <tr>\n",
       "      <th>count</th>\n",
       "      <td>185.000000</td>\n",
       "    </tr>\n",
       "    <tr>\n",
       "      <th>mean</th>\n",
       "      <td>6349.143530</td>\n",
       "    </tr>\n",
       "    <tr>\n",
       "      <th>std</th>\n",
       "      <td>7867.402218</td>\n",
       "    </tr>\n",
       "    <tr>\n",
       "      <th>min</th>\n",
       "      <td>0.000000</td>\n",
       "    </tr>\n",
       "    <tr>\n",
       "      <th>25%</th>\n",
       "      <td>485.229800</td>\n",
       "    </tr>\n",
       "    <tr>\n",
       "      <th>50%</th>\n",
       "      <td>4232.309000</td>\n",
       "    </tr>\n",
       "    <tr>\n",
       "      <th>75%</th>\n",
       "      <td>9642.999000</td>\n",
       "    </tr>\n",
       "    <tr>\n",
       "      <th>max</th>\n",
       "      <td>60307.930000</td>\n",
       "    </tr>\n",
       "  </tbody>\n",
       "</table>\n",
       "</div>"
      ],
      "text/plain": [
       "               re78\n",
       "count    185.000000\n",
       "mean    6349.143530\n",
       "std     7867.402218\n",
       "min        0.000000\n",
       "25%      485.229800\n",
       "50%     4232.309000\n",
       "75%     9642.999000\n",
       "max    60307.930000"
      ]
     },
     "execution_count": 7,
     "metadata": {},
     "output_type": "execute_result"
    }
   ],
   "source": [
    "treat_group[['re78']].describe()"
   ]
  },
  {
   "cell_type": "code",
   "execution_count": 87,
   "metadata": {},
   "outputs": [
    {
     "data": {
      "text/html": [
       "<div>\n",
       "<style scoped>\n",
       "    .dataframe tbody tr th:only-of-type {\n",
       "        vertical-align: middle;\n",
       "    }\n",
       "\n",
       "    .dataframe tbody tr th {\n",
       "        vertical-align: top;\n",
       "    }\n",
       "\n",
       "    .dataframe thead th {\n",
       "        text-align: right;\n",
       "    }\n",
       "</style>\n",
       "<table border=\"1\" class=\"dataframe\">\n",
       "  <thead>\n",
       "    <tr style=\"text-align: right;\">\n",
       "      <th></th>\n",
       "      <th>re78</th>\n",
       "    </tr>\n",
       "  </thead>\n",
       "  <tbody>\n",
       "    <tr>\n",
       "      <th>count</th>\n",
       "      <td>429.000000</td>\n",
       "    </tr>\n",
       "    <tr>\n",
       "      <th>mean</th>\n",
       "      <td>6984.169742</td>\n",
       "    </tr>\n",
       "    <tr>\n",
       "      <th>std</th>\n",
       "      <td>7294.161791</td>\n",
       "    </tr>\n",
       "    <tr>\n",
       "      <th>min</th>\n",
       "      <td>0.000000</td>\n",
       "    </tr>\n",
       "    <tr>\n",
       "      <th>25%</th>\n",
       "      <td>220.181300</td>\n",
       "    </tr>\n",
       "    <tr>\n",
       "      <th>50%</th>\n",
       "      <td>4975.505000</td>\n",
       "    </tr>\n",
       "    <tr>\n",
       "      <th>75%</th>\n",
       "      <td>11688.820000</td>\n",
       "    </tr>\n",
       "    <tr>\n",
       "      <th>max</th>\n",
       "      <td>25564.670000</td>\n",
       "    </tr>\n",
       "  </tbody>\n",
       "</table>\n",
       "</div>"
      ],
      "text/plain": [
       "               re78\n",
       "count    429.000000\n",
       "mean    6984.169742\n",
       "std     7294.161791\n",
       "min        0.000000\n",
       "25%      220.181300\n",
       "50%     4975.505000\n",
       "75%    11688.820000\n",
       "max    25564.670000"
      ]
     },
     "execution_count": 87,
     "metadata": {},
     "output_type": "execute_result"
    }
   ],
   "source": [
    "control_group[['re78']].describe()"
   ]
  },
  {
   "cell_type": "code",
   "execution_count": 91,
   "metadata": {},
   "outputs": [
    {
     "name": "stderr",
     "output_type": "stream",
     "text": [
      "/home/philipliu/anaconda3/envs/ada/lib/python3.8/site-packages/seaborn/distributions.py:2619: FutureWarning: `distplot` is a deprecated function and will be removed in a future version. Please adapt your code to use either `displot` (a figure-level function with similar flexibility) or `histplot` (an axes-level function for histograms).\n",
      "  warnings.warn(msg, FutureWarning)\n",
      "/home/philipliu/anaconda3/envs/ada/lib/python3.8/site-packages/seaborn/distributions.py:2619: FutureWarning: `distplot` is a deprecated function and will be removed in a future version. Please adapt your code to use either `displot` (a figure-level function with similar flexibility) or `histplot` (an axes-level function for histograms).\n",
      "  warnings.warn(msg, FutureWarning)\n"
     ]
    },
    {
     "data": {
      "text/plain": [
       "<Figure size 1296x864 with 0 Axes>"
      ]
     },
     "execution_count": 91,
     "metadata": {},
     "output_type": "execute_result"
    },
    {
     "data": {
      "image/png": "[encoded data removed]",
      "text/plain": [
       "<Figure size 432x288 with 1 Axes>"
      ]
     },
     "metadata": {
      "needs_background": "light"
     },
     "output_type": "display_data"
    },
    {
     "data": {
      "text/plain": [
       "<Figure size 1296x864 with 0 Axes>"
      ]
     },
     "metadata": {},
     "output_type": "display_data"
    }
   ],
   "source": [
    "# Plot the re78 distribution of treat_group and control_group, using distplot of seaborn\n",
    "ax1 = sns.distplot(treat_group['re78'], bins=20, hist=True, kde=True, label='treated')\n",
    "ax1 = sns.distplot(control_group['re78'], bins=20, hist=True, kde=True, label='control')\n",
    "ax1.set_title('Income Distribution Comparison, 1978')\n",
    "ax1.set(xlabel='Income', ylabel='Distribution Density')\n",
    "plt.legend()\n",
    "plt.figure(figsize = (18, 12))"
   ]
  },
  {
   "cell_type": "markdown",
   "metadata": {},
   "source": [
    "A \"naive\" researcher may conclude the following:\n",
    "* The treated group has\n",
    "1. a lower mean earning value\n",
    "2. a higher first percentile value: a higher low income interval\n",
    "3. some outliers with very high income values, close or equal to maximum\n",
    "\n",
    "* The control group has\n",
    "1. a higher mean earning value\n",
    "2. a lower first percentile value: a lower low income interval\n",
    "3. more concentrated income distributed at interval (11250, 25000) approximately"
   ]
  },
  {
   "cell_type": "markdown",
   "metadata": {},
   "source": [
    "## 2. A closer look at the data\n",
    "\n",
    "You're not naive, of course (and even if you are, you've learned certain things in ADA), so you aren't content with a superficial analysis such as the above.\n",
    "You're aware of the dangers of observational studies, so you take a closer look at the data before jumping to conclusions.\n",
    "\n",
    "For each feature in the dataset, compare its distribution in the treated group with its distribution in the control group, using plots and numbers.\n",
    "As above, you may use the techniques we discussed in class for summarizing and comparing the distributions.\n",
    "\n",
    "What do you observe?\n",
    "Describe what your observations mean for the conclusions drawn by the naive \"researcher\" from his superficial analysis."
   ]
  },
  {
   "cell_type": "code",
   "execution_count": 17,
   "metadata": {
    "tags": []
   },
   "outputs": [
    {
     "data": {
      "text/plain": [
       "'\\nFrom the pairplots, we notice that the distribution of other factors in the treat / control group is different,\\nthis reveals that these factors may actually contribute to the result showed in \"superficial\" income analysis.\\nNow we will take detailed analysis between \\'treat\\' and one other factor to find less naive income patterns.\\n'"
      ]
     },
     "execution_count": 17,
     "metadata": {},
     "output_type": "execute_result"
    },
    {
     "data": {
      "image/png": "[encoded data removed]",
      "text/plain": [
       "<Figure size 360x360 with 6 Axes>"
      ]
     },
     "metadata": {
      "needs_background": "light"
     },
     "output_type": "display_data"
    },
    {
     "data": {
      "image/png": "[encoded data removed]",
      "text/plain": [
       "<Figure size 360x360 with 6 Axes>"
      ]
     },
     "metadata": {
      "needs_background": "light"
     },
     "output_type": "display_data"
    },
    {
     "data": {
      "image/png": "[encoded data removed]",
      "text/plain": [
       "<Figure size 360x360 with 6 Axes>"
      ]
     },
     "metadata": {
      "needs_background": "light"
     },
     "output_type": "display_data"
    },
    {
     "data": {
      "image/png": "[encoded data removed]",
      "text/plain": [
       "<Figure size 360x360 with 6 Axes>"
      ]
     },
     "metadata": {
      "needs_background": "light"
     },
     "output_type": "display_data"
    }
   ],
   "source": [
    "''' your code and explanations '''\n",
    "# Firstly we build a complete pair plot pattern between some columns\n",
    "\"\"\"\n",
    "From the pairplots, we notice that the distribution of other factors in the treat / control group is different,\n",
    "this reveals that these factors may actually contribute to the result showed in \"superficial\" income analysis.\n",
    "Now we will take detailed analysis between 'treat' and one other factor to find less naive income patterns.\n",
    "\"\"\"\n",
    "\n",
    "sns.pairplot(df[['treat', 'age']])\n",
    "sns.pairplot(df[['treat', 'educ']])\n",
    "sns.pairplot(df[['treat', 'nodegree']])\n",
    "sns.pairplot(df[['treat', 're75']])"
   ]
  },
  {
   "cell_type": "code",
   "execution_count": 20,
   "metadata": {},
   "outputs": [
    {
     "data": {
      "text/plain": [
       "'\\nAlthough the median age values between the treat and control group are nearly identical, but the boxplot reveals that\\npeople who joined the training program tend to be younger that those who did not (excluding the outliers).\\n'"
      ]
     },
     "execution_count": 20,
     "metadata": {},
     "output_type": "execute_result"
    },
    {
     "data": {
      "image/png": "[encoded data removed]",
      "text/plain": [
       "<Figure size 432x288 with 1 Axes>"
      ]
     },
     "metadata": {
      "needs_background": "light"
     },
     "output_type": "display_data"
    }
   ],
   "source": [
    "# treat & age: we use boxplot to find the distribution of age in the treat/control group\n",
    "\"\"\"\n",
    "Although the median age values between the treat and control group are nearly identical, but the boxplot reveals that\n",
    "people who joined the training program tend to be younger that those who did not (excluding the outliers).\n",
    "\"\"\"\n",
    "sns.boxplot(x='treat', y='age', data=df, width=0.5)"
   ]
  },
  {
   "cell_type": "code",
   "execution_count": 26,
   "metadata": {},
   "outputs": [
    {
     "data": {
      "text/plain": [
       "'\\nExcluding the outliers for both groups, people in treat / control group have nearly identical distribution on their years\\nof education, in this case we will move on to other factors.\\n'"
      ]
     },
     "execution_count": 26,
     "metadata": {},
     "output_type": "execute_result"
    },
    {
     "data": {
      "image/png": "[encoded data removed]",
      "text/plain": [
       "<Figure size 432x288 with 1 Axes>"
      ]
     },
     "metadata": {
      "needs_background": "light"
     },
     "output_type": "display_data"
    }
   ],
   "source": [
    "# treat & educ\n",
    "\"\"\"\n",
    "Excluding the outliers for both groups, people in treat / control group have nearly identical distribution on their years\n",
    "of education, in this case we will move on to other factors.\n",
    "\"\"\"\n",
    "sns.boxplot(x='treat', y='educ', data=df, width=0.5)"
   ]
  },
  {
   "cell_type": "code",
   "execution_count": 52,
   "metadata": {},
   "outputs": [
    {
     "data": {
      "text/html": [
       "<div>\n",
       "<style scoped>\n",
       "    .dataframe tbody tr th:only-of-type {\n",
       "        vertical-align: middle;\n",
       "    }\n",
       "\n",
       "    .dataframe tbody tr th {\n",
       "        vertical-align: top;\n",
       "    }\n",
       "\n",
       "    .dataframe thead th {\n",
       "        text-align: right;\n",
       "    }\n",
       "</style>\n",
       "<table border=\"1\" class=\"dataframe\">\n",
       "  <thead>\n",
       "    <tr style=\"text-align: right;\">\n",
       "      <th>nodegree</th>\n",
       "      <th>0</th>\n",
       "      <th>1</th>\n",
       "    </tr>\n",
       "    <tr>\n",
       "      <th>treat</th>\n",
       "      <th></th>\n",
       "      <th></th>\n",
       "    </tr>\n",
       "  </thead>\n",
       "  <tbody>\n",
       "    <tr>\n",
       "      <th>0</th>\n",
       "      <td>40.33%</td>\n",
       "      <td>59.67%</td>\n",
       "    </tr>\n",
       "    <tr>\n",
       "      <th>1</th>\n",
       "      <td>29.19%</td>\n",
       "      <td>70.81%</td>\n",
       "    </tr>\n",
       "  </tbody>\n",
       "</table>\n",
       "</div>"
      ],
      "text/plain": [
       "nodegree       0       1\n",
       "treat                   \n",
       "0         40.33%  59.67%\n",
       "1         29.19%  70.81%"
      ]
     },
     "execution_count": 52,
     "metadata": {},
     "output_type": "execute_result"
    }
   ],
   "source": [
    "# treat & nodegree\n",
    "# We calculate the percentage of people who does not have a degree in the two groups separately\n",
    "\"\"\"\n",
    "The treat group has a relatively higher percentage of people who do not have a degree, this may also affect the\n",
    "income distribution.\n",
    "\"\"\"\n",
    "\n",
    "treat_degree = df.groupby(['treat', 'nodegree'])['nodegree'].count().unstack()\n",
    "treat_degree = treat_degree.div(treat_degree.sum(axis=1), axis=0)\n",
    "treat_degree = treat_degree.applymap(lambda x: '{0:.2f}%'.format(x * 100))\n",
    "treat_degree"
   ]
  },
  {
   "cell_type": "code",
   "execution_count": 69,
   "metadata": {},
   "outputs": [
    {
     "data": {
      "text/html": [
       "<div>\n",
       "<style scoped>\n",
       "    .dataframe tbody tr th:only-of-type {\n",
       "        vertical-align: middle;\n",
       "    }\n",
       "\n",
       "    .dataframe tbody tr th {\n",
       "        vertical-align: top;\n",
       "    }\n",
       "\n",
       "    .dataframe thead th {\n",
       "        text-align: right;\n",
       "    }\n",
       "</style>\n",
       "<table border=\"1\" class=\"dataframe\">\n",
       "  <thead>\n",
       "    <tr style=\"text-align: right;\">\n",
       "      <th>married</th>\n",
       "      <th>0</th>\n",
       "      <th>1</th>\n",
       "    </tr>\n",
       "    <tr>\n",
       "      <th>treat</th>\n",
       "      <th></th>\n",
       "      <th></th>\n",
       "    </tr>\n",
       "  </thead>\n",
       "  <tbody>\n",
       "    <tr>\n",
       "      <th>0</th>\n",
       "      <td>48.72%</td>\n",
       "      <td>51.28%</td>\n",
       "    </tr>\n",
       "    <tr>\n",
       "      <th>1</th>\n",
       "      <td>81.08%</td>\n",
       "      <td>18.92%</td>\n",
       "    </tr>\n",
       "  </tbody>\n",
       "</table>\n",
       "</div>"
      ],
      "text/plain": [
       "married       0       1\n",
       "treat                  \n",
       "0        48.72%  51.28%\n",
       "1        81.08%  18.92%"
      ]
     },
     "execution_count": 69,
     "metadata": {},
     "output_type": "execute_result"
    }
   ],
   "source": [
    "# treat and married\n",
    "\"\"\"\n",
    "The treat group has a lower percentage of people who are married, age and marriage may indicate what kind of people\n",
    "joined the training program.\n",
    "\"\"\"\n",
    "\n",
    "treat_married = df.groupby(['treat', 'married'])['married'].count().unstack()\n",
    "treat_married = treat_married.div(treat_married.sum(axis=1), axis=0)\n",
    "treat_married_per = treat_married.applymap(lambda x: '{0:.2f}%'.format(x * 100))\n",
    "treat_married_per"
   ]
  },
  {
   "cell_type": "code",
   "execution_count": 73,
   "metadata": {},
   "outputs": [
    {
     "data": {
      "text/plain": [
       "Text(0, 0.5, 'Proportion of Group Members')"
      ]
     },
     "execution_count": 73,
     "metadata": {},
     "output_type": "execute_result"
    },
    {
     "data": {
      "image/png": "[encoded data removed]",
      "text/plain": [
       "<Figure size 432x288 with 1 Axes>"
      ]
     },
     "metadata": {
      "needs_background": "light"
     },
     "output_type": "display_data"
    }
   ],
   "source": [
    "# Plot the distribution histogram for treat and married\n",
    "treat_married.plot(kind='bar', rot=0)\n",
    "plt.title('Treat-Married Distribution Analysis')\n",
    "plt.xlabel('Treat Group')\n",
    "plt.ylabel('Proportion of Group Members')"
   ]
  },
  {
   "cell_type": "code",
   "execution_count": 76,
   "metadata": {},
   "outputs": [
    {
     "data": {
      "text/html": [
       "<div>\n",
       "<style scoped>\n",
       "    .dataframe tbody tr th:only-of-type {\n",
       "        vertical-align: middle;\n",
       "    }\n",
       "\n",
       "    .dataframe tbody tr th {\n",
       "        vertical-align: top;\n",
       "    }\n",
       "\n",
       "    .dataframe thead th {\n",
       "        text-align: right;\n",
       "    }\n",
       "</style>\n",
       "<table border=\"1\" class=\"dataframe\">\n",
       "  <thead>\n",
       "    <tr style=\"text-align: right;\">\n",
       "      <th></th>\n",
       "      <th>id</th>\n",
       "      <th>treat</th>\n",
       "      <th>age</th>\n",
       "      <th>educ</th>\n",
       "      <th>black</th>\n",
       "      <th>hispan</th>\n",
       "      <th>married</th>\n",
       "      <th>nodegree</th>\n",
       "      <th>re74</th>\n",
       "      <th>re75</th>\n",
       "      <th>re78</th>\n",
       "      <th>white</th>\n",
       "    </tr>\n",
       "  </thead>\n",
       "  <tbody>\n",
       "    <tr>\n",
       "      <th>318</th>\n",
       "      <td>PSID134</td>\n",
       "      <td>0</td>\n",
       "      <td>19</td>\n",
       "      <td>11</td>\n",
       "      <td>1</td>\n",
       "      <td>0</td>\n",
       "      <td>0</td>\n",
       "      <td>1</td>\n",
       "      <td>5607.4220</td>\n",
       "      <td>3054.290</td>\n",
       "      <td>94.5745</td>\n",
       "      <td>0</td>\n",
       "    </tr>\n",
       "    <tr>\n",
       "      <th>18</th>\n",
       "      <td>NSW19</td>\n",
       "      <td>1</td>\n",
       "      <td>40</td>\n",
       "      <td>12</td>\n",
       "      <td>1</td>\n",
       "      <td>0</td>\n",
       "      <td>0</td>\n",
       "      <td>0</td>\n",
       "      <td>0.0000</td>\n",
       "      <td>0.000</td>\n",
       "      <td>10804.3200</td>\n",
       "      <td>0</td>\n",
       "    </tr>\n",
       "    <tr>\n",
       "      <th>280</th>\n",
       "      <td>PSID96</td>\n",
       "      <td>0</td>\n",
       "      <td>47</td>\n",
       "      <td>10</td>\n",
       "      <td>1</td>\n",
       "      <td>0</td>\n",
       "      <td>0</td>\n",
       "      <td>1</td>\n",
       "      <td>21918.3200</td>\n",
       "      <td>4323.629</td>\n",
       "      <td>19438.0200</td>\n",
       "      <td>0</td>\n",
       "    </tr>\n",
       "    <tr>\n",
       "      <th>231</th>\n",
       "      <td>PSID47</td>\n",
       "      <td>0</td>\n",
       "      <td>19</td>\n",
       "      <td>11</td>\n",
       "      <td>0</td>\n",
       "      <td>0</td>\n",
       "      <td>1</td>\n",
       "      <td>1</td>\n",
       "      <td>4306.4680</td>\n",
       "      <td>6978.677</td>\n",
       "      <td>837.8710</td>\n",
       "      <td>1</td>\n",
       "    </tr>\n",
       "    <tr>\n",
       "      <th>375</th>\n",
       "      <td>PSID191</td>\n",
       "      <td>0</td>\n",
       "      <td>18</td>\n",
       "      <td>12</td>\n",
       "      <td>1</td>\n",
       "      <td>0</td>\n",
       "      <td>0</td>\n",
       "      <td>0</td>\n",
       "      <td>1579.1690</td>\n",
       "      <td>1408.984</td>\n",
       "      <td>3057.4160</td>\n",
       "      <td>0</td>\n",
       "    </tr>\n",
       "    <tr>\n",
       "      <th>544</th>\n",
       "      <td>PSID360</td>\n",
       "      <td>0</td>\n",
       "      <td>55</td>\n",
       "      <td>6</td>\n",
       "      <td>0</td>\n",
       "      <td>0</td>\n",
       "      <td>1</td>\n",
       "      <td>1</td>\n",
       "      <td>111.6782</td>\n",
       "      <td>0.000</td>\n",
       "      <td>0.0000</td>\n",
       "      <td>1</td>\n",
       "    </tr>\n",
       "    <tr>\n",
       "      <th>373</th>\n",
       "      <td>PSID189</td>\n",
       "      <td>0</td>\n",
       "      <td>26</td>\n",
       "      <td>12</td>\n",
       "      <td>1</td>\n",
       "      <td>0</td>\n",
       "      <td>0</td>\n",
       "      <td>0</td>\n",
       "      <td>0.0000</td>\n",
       "      <td>1448.371</td>\n",
       "      <td>0.0000</td>\n",
       "      <td>0</td>\n",
       "    </tr>\n",
       "    <tr>\n",
       "      <th>35</th>\n",
       "      <td>NSW36</td>\n",
       "      <td>1</td>\n",
       "      <td>42</td>\n",
       "      <td>14</td>\n",
       "      <td>1</td>\n",
       "      <td>0</td>\n",
       "      <td>0</td>\n",
       "      <td>0</td>\n",
       "      <td>0.0000</td>\n",
       "      <td>0.000</td>\n",
       "      <td>20505.9300</td>\n",
       "      <td>0</td>\n",
       "    </tr>\n",
       "    <tr>\n",
       "      <th>312</th>\n",
       "      <td>PSID128</td>\n",
       "      <td>0</td>\n",
       "      <td>24</td>\n",
       "      <td>7</td>\n",
       "      <td>0</td>\n",
       "      <td>0</td>\n",
       "      <td>1</td>\n",
       "      <td>1</td>\n",
       "      <td>7860.5780</td>\n",
       "      <td>3213.629</td>\n",
       "      <td>0.0000</td>\n",
       "      <td>1</td>\n",
       "    </tr>\n",
       "    <tr>\n",
       "      <th>132</th>\n",
       "      <td>NSW133</td>\n",
       "      <td>1</td>\n",
       "      <td>26</td>\n",
       "      <td>11</td>\n",
       "      <td>1</td>\n",
       "      <td>0</td>\n",
       "      <td>1</td>\n",
       "      <td>1</td>\n",
       "      <td>0.0000</td>\n",
       "      <td>1392.853</td>\n",
       "      <td>1460.3600</td>\n",
       "      <td>0</td>\n",
       "    </tr>\n",
       "  </tbody>\n",
       "</table>\n",
       "</div>"
      ],
      "text/plain": [
       "          id  treat  age  educ  black  hispan  married  nodegree        re74  \\\n",
       "318  PSID134      0   19    11      1       0        0         1   5607.4220   \n",
       "18     NSW19      1   40    12      1       0        0         0      0.0000   \n",
       "280   PSID96      0   47    10      1       0        0         1  21918.3200   \n",
       "231   PSID47      0   19    11      0       0        1         1   4306.4680   \n",
       "375  PSID191      0   18    12      1       0        0         0   1579.1690   \n",
       "544  PSID360      0   55     6      0       0        1         1    111.6782   \n",
       "373  PSID189      0   26    12      1       0        0         0      0.0000   \n",
       "35     NSW36      1   42    14      1       0        0         0      0.0000   \n",
       "312  PSID128      0   24     7      0       0        1         1   7860.5780   \n",
       "132   NSW133      1   26    11      1       0        1         1      0.0000   \n",
       "\n",
       "         re75        re78  white  \n",
       "318  3054.290     94.5745      0  \n",
       "18      0.000  10804.3200      0  \n",
       "280  4323.629  19438.0200      0  \n",
       "231  6978.677    837.8710      1  \n",
       "375  1408.984   3057.4160      0  \n",
       "544     0.000      0.0000      1  \n",
       "373  1448.371      0.0000      0  \n",
       "35      0.000  20505.9300      0  \n",
       "312  3213.629      0.0000      1  \n",
       "132  1392.853   1460.3600      0  "
      ]
     },
     "execution_count": 76,
     "metadata": {},
     "output_type": "execute_result"
    }
   ],
   "source": [
    "# treat and race\n",
    "# We add a new column of 'white' indicating those who are not 'black' or 'hispan'\n",
    "\"\"\"\n",
    "In the treat group, black people comprise the major part, of about 84.32%; whereas in the control group, white people\n",
    "comprise the major part, of about 65.5%. Race composition may leading to bias in income distribution.\n",
    "\"\"\"\n",
    "\n",
    "df['white'] = (~(df['black'].astype(bool) | df['hispan'].astype(bool))).astype(int)\n",
    "df.sample(10)"
   ]
  },
  {
   "cell_type": "code",
   "execution_count": 72,
   "metadata": {},
   "outputs": [
    {
     "data": {
      "text/html": [
       "<div>\n",
       "<style scoped>\n",
       "    .dataframe tbody tr th:only-of-type {\n",
       "        vertical-align: middle;\n",
       "    }\n",
       "\n",
       "    .dataframe tbody tr th {\n",
       "        vertical-align: top;\n",
       "    }\n",
       "\n",
       "    .dataframe thead th {\n",
       "        text-align: right;\n",
       "    }\n",
       "</style>\n",
       "<table border=\"1\" class=\"dataframe\">\n",
       "  <thead>\n",
       "    <tr style=\"text-align: right;\">\n",
       "      <th></th>\n",
       "      <th>black</th>\n",
       "      <th>hispan</th>\n",
       "      <th>white</th>\n",
       "    </tr>\n",
       "    <tr>\n",
       "      <th>treat</th>\n",
       "      <th></th>\n",
       "      <th></th>\n",
       "      <th></th>\n",
       "    </tr>\n",
       "  </thead>\n",
       "  <tbody>\n",
       "    <tr>\n",
       "      <th>0</th>\n",
       "      <td>20.28%</td>\n",
       "      <td>14.22%</td>\n",
       "      <td>65.50%</td>\n",
       "    </tr>\n",
       "    <tr>\n",
       "      <th>1</th>\n",
       "      <td>84.32%</td>\n",
       "      <td>5.95%</td>\n",
       "      <td>9.73%</td>\n",
       "    </tr>\n",
       "  </tbody>\n",
       "</table>\n",
       "</div>"
      ],
      "text/plain": [
       "        black  hispan   white\n",
       "treat                        \n",
       "0      20.28%  14.22%  65.50%\n",
       "1      84.32%   5.95%   9.73%"
      ]
     },
     "execution_count": 72,
     "metadata": {},
     "output_type": "execute_result"
    }
   ],
   "source": [
    "# Analyze the race distribution of the treat/control group\n",
    "treat_race = df.groupby(['treat'])[['black','hispan','white']].sum()\n",
    "#treat_race = treat_race.sum(axis=1)\n",
    "treat_race = treat_race.div(treat_race.sum(axis=1), axis=0)\n",
    "treat_race_per = treat_race.applymap(lambda x: '{0:.2f}%'.format(x * 100))\n",
    "treat_race_per"
   ]
  },
  {
   "cell_type": "code",
   "execution_count": 75,
   "metadata": {},
   "outputs": [
    {
     "data": {
      "text/plain": [
       "Text(0, 0.5, 'Proportion of Races')"
      ]
     },
     "execution_count": 75,
     "metadata": {},
     "output_type": "execute_result"
    },
    {
     "data": {
      "image/png": "[encoded data removed]",
      "text/plain": [
       "<Figure size 432x288 with 1 Axes>"
      ]
     },
     "metadata": {
      "needs_background": "light"
     },
     "output_type": "display_data"
    }
   ],
   "source": [
    "treat_race.plot(kind='bar', rot=0)\n",
    "plt.title('Treat-Race Distribution Analysis')\n",
    "plt.xlabel('Treat Group')\n",
    "plt.ylabel('Proportion of Races')"
   ]
  },
  {
   "cell_type": "code",
   "execution_count": 92,
   "metadata": {},
   "outputs": [
    {
     "name": "stderr",
     "output_type": "stream",
     "text": [
      "/home/philipliu/anaconda3/envs/ada/lib/python3.8/site-packages/seaborn/distributions.py:2619: FutureWarning: `distplot` is a deprecated function and will be removed in a future version. Please adapt your code to use either `displot` (a figure-level function with similar flexibility) or `histplot` (an axes-level function for histograms).\n",
      "  warnings.warn(msg, FutureWarning)\n",
      "/home/philipliu/anaconda3/envs/ada/lib/python3.8/site-packages/seaborn/distributions.py:2619: FutureWarning: `distplot` is a deprecated function and will be removed in a future version. Please adapt your code to use either `displot` (a figure-level function with similar flexibility) or `histplot` (an axes-level function for histograms).\n",
      "  warnings.warn(msg, FutureWarning)\n"
     ]
    },
    {
     "data": {
      "image/png": "[encoded data removed]",
      "text/plain": [
       "<Figure size 432x288 with 1 Axes>"
      ]
     },
     "metadata": {
      "needs_background": "light"
     },
     "output_type": "display_data"
    }
   ],
   "source": [
    "# treat and former income 're74' / 're75'\n",
    "\"\"\"\n",
    "The income distribution in 1974 and 1975 reveals that the treat group has a higher proportion of people who do not have\n",
    "income before the training program, some of them may be workplace newcomers. Work experience is indeed an important factor\n",
    "when it comes to income levels.\n",
    "\"\"\"\n",
    "\n",
    "# re74\n",
    "ax2 = sns.distplot(treat_group['re74'], bins=20, hist=True, kde=True, label='treated')\n",
    "ax2 = sns.distplot(control_group['re74'], bins=20, hist=True, kde=True, label='control')\n",
    "ax2.set_title('Income Distribution, 1974')\n",
    "plt.xlabel('Income')\n",
    "plt.ylabel('Distribution Density')\n",
    "plt.legend()\n",
    "plt.show()"
   ]
  },
  {
   "cell_type": "code",
   "execution_count": 93,
   "metadata": {},
   "outputs": [
    {
     "name": "stderr",
     "output_type": "stream",
     "text": [
      "/home/philipliu/anaconda3/envs/ada/lib/python3.8/site-packages/seaborn/distributions.py:2619: FutureWarning: `distplot` is a deprecated function and will be removed in a future version. Please adapt your code to use either `displot` (a figure-level function with similar flexibility) or `histplot` (an axes-level function for histograms).\n",
      "  warnings.warn(msg, FutureWarning)\n",
      "/home/philipliu/anaconda3/envs/ada/lib/python3.8/site-packages/seaborn/distributions.py:2619: FutureWarning: `distplot` is a deprecated function and will be removed in a future version. Please adapt your code to use either `displot` (a figure-level function with similar flexibility) or `histplot` (an axes-level function for histograms).\n",
      "  warnings.warn(msg, FutureWarning)\n"
     ]
    },
    {
     "data": {
      "image/png": "[encoded data removed]",
      "text/plain": [
       "<Figure size 432x288 with 1 Axes>"
      ]
     },
     "metadata": {
      "needs_background": "light"
     },
     "output_type": "display_data"
    }
   ],
   "source": [
    "ax2 = sns.distplot(treat_group['re75'], bins=20, hist=True, kde=True, label='treated')\n",
    "ax2 = sns.distplot(control_group['re75'], bins=20, hist=True, kde=True, label='control')\n",
    "ax2.set_title('Income Distribution, 1975')\n",
    "plt.xlabel('Income')\n",
    "plt.ylabel('Distribution Density')\n",
    "plt.legend()\n",
    "plt.show()"
   ]
  },
  {
   "cell_type": "markdown",
   "metadata": {},
   "source": [
    "## 3. A propensity score model\n",
    "\n",
    "Use logistic regression to estimate propensity scores for all points in the dataset.\n",
    "You may use `statsmodels` to fit the logistic regression model and apply it to each data point to obtain propensity scores.\n",
    "\n",
    "Recall that the propensity score of a data point represents its probability of receiving the treatment, based on its pre-treatment features (in this case, age, education, pre-treatment income, etc.).\n",
    "To brush up on propensity scores, you may read chapter 3.3 of the above-cited book by Rosenbaum or [this article](https://www.ncbi.nlm.nih.gov/pmc/articles/PMC3144483/pdf/hmbr46-399.pdf).\n",
    "\n",
    "Note: you do not need a train/test split here. Train and apply the model on the entire dataset. If you're wondering why this is the right thing to do in this situation, recall that the propensity score model is not used in order to make predictions about unseen data. Its sole purpose is to balance the dataset across treatment groups.\n",
    "(See p. 74 of Rosenbaum's book for an explanation why slight overfitting is even good for propensity scores.\n",
    "If you want even more information, read [this article](https://www.ncbi.nlm.nih.gov/pmc/articles/PMC3144483/pdf/hmbr46-399.pdf).)"
   ]
  },
  {
   "cell_type": "code",
   "execution_count": 94,
   "metadata": {
    "tags": []
   },
   "outputs": [
    {
     "data": {
      "text/html": [
       "<div>\n",
       "<style scoped>\n",
       "    .dataframe tbody tr th:only-of-type {\n",
       "        vertical-align: middle;\n",
       "    }\n",
       "\n",
       "    .dataframe tbody tr th {\n",
       "        vertical-align: top;\n",
       "    }\n",
       "\n",
       "    .dataframe thead th {\n",
       "        text-align: right;\n",
       "    }\n",
       "</style>\n",
       "<table border=\"1\" class=\"dataframe\">\n",
       "  <thead>\n",
       "    <tr style=\"text-align: right;\">\n",
       "      <th></th>\n",
       "      <th>id</th>\n",
       "      <th>treat</th>\n",
       "      <th>age</th>\n",
       "      <th>educ</th>\n",
       "      <th>black</th>\n",
       "      <th>hispan</th>\n",
       "      <th>married</th>\n",
       "      <th>nodegree</th>\n",
       "      <th>re74</th>\n",
       "      <th>re75</th>\n",
       "      <th>re78</th>\n",
       "      <th>white</th>\n",
       "    </tr>\n",
       "  </thead>\n",
       "  <tbody>\n",
       "    <tr>\n",
       "      <th>291</th>\n",
       "      <td>PSID107</td>\n",
       "      <td>0</td>\n",
       "      <td>-0.846375</td>\n",
       "      <td>0.658697</td>\n",
       "      <td>0</td>\n",
       "      <td>0</td>\n",
       "      <td>1</td>\n",
       "      <td>0</td>\n",
       "      <td>0.194431</td>\n",
       "      <td>0.526167</td>\n",
       "      <td>1066.9190</td>\n",
       "      <td>1</td>\n",
       "    </tr>\n",
       "    <tr>\n",
       "      <th>180</th>\n",
       "      <td>NSW181</td>\n",
       "      <td>1</td>\n",
       "      <td>0.570459</td>\n",
       "      <td>0.658697</td>\n",
       "      <td>1</td>\n",
       "      <td>0</td>\n",
       "      <td>1</td>\n",
       "      <td>0</td>\n",
       "      <td>2.427059</td>\n",
       "      <td>2.656937</td>\n",
       "      <td>15952.6000</td>\n",
       "      <td>0</td>\n",
       "    </tr>\n",
       "    <tr>\n",
       "      <th>273</th>\n",
       "      <td>PSID89</td>\n",
       "      <td>0</td>\n",
       "      <td>-1.149982</td>\n",
       "      <td>-0.482714</td>\n",
       "      <td>0</td>\n",
       "      <td>0</td>\n",
       "      <td>0</td>\n",
       "      <td>1</td>\n",
       "      <td>-0.311570</td>\n",
       "      <td>0.726620</td>\n",
       "      <td>0.0000</td>\n",
       "      <td>1</td>\n",
       "    </tr>\n",
       "    <tr>\n",
       "      <th>267</th>\n",
       "      <td>PSID83</td>\n",
       "      <td>0</td>\n",
       "      <td>-0.239161</td>\n",
       "      <td>1.800109</td>\n",
       "      <td>0</td>\n",
       "      <td>0</td>\n",
       "      <td>1</td>\n",
       "      <td>0</td>\n",
       "      <td>0.436694</td>\n",
       "      <td>0.774968</td>\n",
       "      <td>12705.4900</td>\n",
       "      <td>1</td>\n",
       "    </tr>\n",
       "    <tr>\n",
       "      <th>486</th>\n",
       "      <td>PSID302</td>\n",
       "      <td>0</td>\n",
       "      <td>0.266851</td>\n",
       "      <td>-0.102244</td>\n",
       "      <td>0</td>\n",
       "      <td>0</td>\n",
       "      <td>1</td>\n",
       "      <td>1</td>\n",
       "      <td>1.598711</td>\n",
       "      <td>-0.662971</td>\n",
       "      <td>11563.2100</td>\n",
       "      <td>1</td>\n",
       "    </tr>\n",
       "    <tr>\n",
       "      <th>566</th>\n",
       "      <td>PSID382</td>\n",
       "      <td>0</td>\n",
       "      <td>0.165649</td>\n",
       "      <td>0.278227</td>\n",
       "      <td>0</td>\n",
       "      <td>0</td>\n",
       "      <td>1</td>\n",
       "      <td>1</td>\n",
       "      <td>-0.703546</td>\n",
       "      <td>-0.662971</td>\n",
       "      <td>0.0000</td>\n",
       "      <td>1</td>\n",
       "    </tr>\n",
       "    <tr>\n",
       "      <th>159</th>\n",
       "      <td>NSW160</td>\n",
       "      <td>1</td>\n",
       "      <td>-0.643970</td>\n",
       "      <td>-0.863185</td>\n",
       "      <td>1</td>\n",
       "      <td>0</td>\n",
       "      <td>0</td>\n",
       "      <td>1</td>\n",
       "      <td>-0.550833</td>\n",
       "      <td>0.458467</td>\n",
       "      <td>4279.6130</td>\n",
       "      <td>0</td>\n",
       "    </tr>\n",
       "    <tr>\n",
       "      <th>452</th>\n",
       "      <td>PSID268</td>\n",
       "      <td>0</td>\n",
       "      <td>-1.149982</td>\n",
       "      <td>-0.482714</td>\n",
       "      <td>1</td>\n",
       "      <td>0</td>\n",
       "      <td>0</td>\n",
       "      <td>1</td>\n",
       "      <td>-0.703546</td>\n",
       "      <td>-0.578769</td>\n",
       "      <td>3983.9510</td>\n",
       "      <td>0</td>\n",
       "    </tr>\n",
       "    <tr>\n",
       "      <th>545</th>\n",
       "      <td>PSID361</td>\n",
       "      <td>0</td>\n",
       "      <td>0.975268</td>\n",
       "      <td>0.658697</td>\n",
       "      <td>0</td>\n",
       "      <td>0</td>\n",
       "      <td>0</td>\n",
       "      <td>0</td>\n",
       "      <td>-0.695985</td>\n",
       "      <td>-0.662971</td>\n",
       "      <td>877.7696</td>\n",
       "      <td>1</td>\n",
       "    </tr>\n",
       "    <tr>\n",
       "      <th>131</th>\n",
       "      <td>NSW132</td>\n",
       "      <td>1</td>\n",
       "      <td>0.064446</td>\n",
       "      <td>0.278227</td>\n",
       "      <td>1</td>\n",
       "      <td>0</td>\n",
       "      <td>0</td>\n",
       "      <td>1</td>\n",
       "      <td>-0.703546</td>\n",
       "      <td>-0.273346</td>\n",
       "      <td>60307.9300</td>\n",
       "      <td>0</td>\n",
       "    </tr>\n",
       "  </tbody>\n",
       "</table>\n",
       "</div>"
      ],
      "text/plain": [
       "          id  treat       age      educ  black  hispan  married  nodegree  \\\n",
       "291  PSID107      0 -0.846375  0.658697      0       0        1         0   \n",
       "180   NSW181      1  0.570459  0.658697      1       0        1         0   \n",
       "273   PSID89      0 -1.149982 -0.482714      0       0        0         1   \n",
       "267   PSID83      0 -0.239161  1.800109      0       0        1         0   \n",
       "486  PSID302      0  0.266851 -0.102244      0       0        1         1   \n",
       "566  PSID382      0  0.165649  0.278227      0       0        1         1   \n",
       "159   NSW160      1 -0.643970 -0.863185      1       0        0         1   \n",
       "452  PSID268      0 -1.149982 -0.482714      1       0        0         1   \n",
       "545  PSID361      0  0.975268  0.658697      0       0        0         0   \n",
       "131   NSW132      1  0.064446  0.278227      1       0        0         1   \n",
       "\n",
       "         re74      re75        re78  white  \n",
       "291  0.194431  0.526167   1066.9190      1  \n",
       "180  2.427059  2.656937  15952.6000      0  \n",
       "273 -0.311570  0.726620      0.0000      1  \n",
       "267  0.436694  0.774968  12705.4900      1  \n",
       "486  1.598711 -0.662971  11563.2100      1  \n",
       "566 -0.703546 -0.662971      0.0000      1  \n",
       "159 -0.550833  0.458467   4279.6130      0  \n",
       "452 -0.703546 -0.578769   3983.9510      0  \n",
       "545 -0.695985 -0.662971    877.7696      1  \n",
       "131 -0.703546 -0.273346  60307.9300      0  "
      ]
     },
     "execution_count": 94,
     "metadata": {},
     "output_type": "execute_result"
    }
   ],
   "source": [
    "''' your code and explanations '''\n",
    "# Firstly, we standardize the age, educ, re74, and re75 as continuous features\n",
    "df['age'] = (df['age'] - df['age'].mean()) / df['age'].std()\n",
    "df['educ'] = (df['educ'] - df['educ'].mean()) / df['educ'].std()\n",
    "df['re74'] = (df['re74'] - df['re74'].mean()) / df['re74'].std()\n",
    "df['re75'] = (df['re75'] - df['re75'].mean()) / df['re75'].std()\n",
    "df.sample(10)"
   ]
  },
  {
   "cell_type": "code",
   "execution_count": 102,
   "metadata": {},
   "outputs": [
    {
     "name": "stdout",
     "output_type": "stream",
     "text": [
      "Optimization terminated successfully.\n",
      "         Current function value: 0.397267\n",
      "         Iterations 7\n",
      "                           Logit Regression Results                           \n",
      "==============================================================================\n",
      "Dep. Variable:                  treat   No. Observations:                  614\n",
      "Model:                          Logit   Df Residuals:                      605\n",
      "Method:                           MLE   Df Model:                            8\n",
      "Date:                Tue, 02 Nov 2021   Pseudo R-squ.:                  0.3508\n",
      "Time:                        23:40:34   Log-Likelihood:                -243.92\n",
      "converged:                       True   LL-Null:                       -375.75\n",
      "Covariance Type:            nonrobust   LLR p-value:                 2.194e-52\n",
      "====================================================================================\n",
      "                       coef    std err          z      P>|z|      [0.025      0.975]\n",
      "------------------------------------------------------------------------------------\n",
      "Intercept           -4.7286      1.017     -4.649      0.000      -6.722      -2.735\n",
      "C(black)[T.1]        3.0654      0.287     10.698      0.000       2.504       3.627\n",
      "C(hispan)[T.1]       0.9836      0.426      2.311      0.021       0.149       1.818\n",
      "C(married)[T.1]     -0.8321      0.290     -2.866      0.004      -1.401      -0.263\n",
      "C(nodegree)[T.1]     0.7073      0.338      2.095      0.036       0.045       1.369\n",
      "age                  0.0158      0.014      1.162      0.245      -0.011       0.042\n",
      "educ                 0.1613      0.065      2.477      0.013       0.034       0.289\n",
      "re74             -7.178e-05   2.87e-05     -2.497      0.013      -0.000   -1.54e-05\n",
      "re75              5.345e-05   4.63e-05      1.153      0.249   -3.74e-05       0.000\n",
      "====================================================================================\n"
     ]
    }
   ],
   "source": [
    "import statsmodels.formula.api as smf\n",
    "import statsmodels.api as sm\n",
    "\n",
    "# Apply logistic regression model to all data feature columns\n",
    "mod = smf.logit(formula='treat ~ age + educ + C(black) + C(hispan) + C(married) + C(nodegree) + \\\n",
    "                re74 + re75', data=df)\n",
    "result = mod.fit()\n",
    "print(result.summary())\n",
    "\n",
    "# Extract the propensity scores to a new column\n",
    "df['propensity_score'] = result.predict()"
   ]
  },
  {
   "cell_type": "markdown",
   "metadata": {},
   "source": [
    "## 4. Balancing the dataset via matching\n",
    "\n",
    "Use the propensity scores to match each data point from the treated group with exactly one data point from the control group, while ensuring that each data point from the control group is matched with at most one data point from the treated group.\n",
    "(Hint: you may explore the `networkx` package in Python for predefined matching functions.)\n",
    "\n",
    "Your matching should maximize the similarity between matched subjects, as captured by their propensity scores.\n",
    "In other words, the sum (over all matched pairs) of absolute propensity-score differences between the two matched subjects should be minimized.\n",
    "\n",
    "This is how networkx library can help you do this. Each possible pair of (treated_person, control_person) is characterized by a similarity. This is how we can initialize a graph, and add an edge for one possible pair. We then need to add an edge for each possible pair.\n",
    "    - G = nx.Graph()\n",
    "    - G.add_weighted_edges_from([(control_person, treated_person, similarity)])\n",
    "Optimal matching is then found with:\n",
    "    - matching = nx.max_weight_matching(G)\n",
    "\n",
    "After matching, you have as many treated as you have control subjects.\n",
    "Compare the outcomes (`re78`) between the two groups (treated and control).\n",
    "\n",
    "Also, compare again the feature-value distributions between the two groups, as you've done in part 2 above, but now only for the matched subjects.\n",
    "What do you observe?\n",
    "Are you closer to being able to draw valid conclusions now than you were before?"
   ]
  },
  {
   "cell_type": "code",
   "execution_count": 104,
   "metadata": {
    "tags": []
   },
   "outputs": [
    {
     "data": {
      "text/html": [
       "<div>\n",
       "<style scoped>\n",
       "    .dataframe tbody tr th:only-of-type {\n",
       "        vertical-align: middle;\n",
       "    }\n",
       "\n",
       "    .dataframe tbody tr th {\n",
       "        vertical-align: top;\n",
       "    }\n",
       "\n",
       "    .dataframe thead th {\n",
       "        text-align: right;\n",
       "    }\n",
       "</style>\n",
       "<table border=\"1\" class=\"dataframe\">\n",
       "  <thead>\n",
       "    <tr style=\"text-align: right;\">\n",
       "      <th></th>\n",
       "      <th>id</th>\n",
       "      <th>treat</th>\n",
       "      <th>age</th>\n",
       "      <th>educ</th>\n",
       "      <th>black</th>\n",
       "      <th>hispan</th>\n",
       "      <th>married</th>\n",
       "      <th>nodegree</th>\n",
       "      <th>re74</th>\n",
       "      <th>re75</th>\n",
       "      <th>re78</th>\n",
       "      <th>propensity_score</th>\n",
       "    </tr>\n",
       "  </thead>\n",
       "  <tbody>\n",
       "    <tr>\n",
       "      <th>0</th>\n",
       "      <td>NSW1</td>\n",
       "      <td>1</td>\n",
       "      <td>37</td>\n",
       "      <td>11</td>\n",
       "      <td>1</td>\n",
       "      <td>0</td>\n",
       "      <td>1</td>\n",
       "      <td>1</td>\n",
       "      <td>0.0</td>\n",
       "      <td>0.0</td>\n",
       "      <td>9930.0460</td>\n",
       "      <td>0.638770</td>\n",
       "    </tr>\n",
       "    <tr>\n",
       "      <th>1</th>\n",
       "      <td>NSW2</td>\n",
       "      <td>1</td>\n",
       "      <td>22</td>\n",
       "      <td>9</td>\n",
       "      <td>0</td>\n",
       "      <td>1</td>\n",
       "      <td>0</td>\n",
       "      <td>1</td>\n",
       "      <td>0.0</td>\n",
       "      <td>0.0</td>\n",
       "      <td>3595.8940</td>\n",
       "      <td>0.224634</td>\n",
       "    </tr>\n",
       "    <tr>\n",
       "      <th>2</th>\n",
       "      <td>NSW3</td>\n",
       "      <td>1</td>\n",
       "      <td>30</td>\n",
       "      <td>12</td>\n",
       "      <td>1</td>\n",
       "      <td>0</td>\n",
       "      <td>0</td>\n",
       "      <td>0</td>\n",
       "      <td>0.0</td>\n",
       "      <td>0.0</td>\n",
       "      <td>24909.4500</td>\n",
       "      <td>0.678244</td>\n",
       "    </tr>\n",
       "    <tr>\n",
       "      <th>3</th>\n",
       "      <td>NSW4</td>\n",
       "      <td>1</td>\n",
       "      <td>27</td>\n",
       "      <td>11</td>\n",
       "      <td>1</td>\n",
       "      <td>0</td>\n",
       "      <td>0</td>\n",
       "      <td>1</td>\n",
       "      <td>0.0</td>\n",
       "      <td>0.0</td>\n",
       "      <td>7506.1460</td>\n",
       "      <td>0.776324</td>\n",
       "    </tr>\n",
       "    <tr>\n",
       "      <th>4</th>\n",
       "      <td>NSW5</td>\n",
       "      <td>1</td>\n",
       "      <td>33</td>\n",
       "      <td>8</td>\n",
       "      <td>1</td>\n",
       "      <td>0</td>\n",
       "      <td>0</td>\n",
       "      <td>1</td>\n",
       "      <td>0.0</td>\n",
       "      <td>0.0</td>\n",
       "      <td>289.7899</td>\n",
       "      <td>0.701639</td>\n",
       "    </tr>\n",
       "    <tr>\n",
       "      <th>5</th>\n",
       "      <td>NSW6</td>\n",
       "      <td>1</td>\n",
       "      <td>22</td>\n",
       "      <td>9</td>\n",
       "      <td>1</td>\n",
       "      <td>0</td>\n",
       "      <td>0</td>\n",
       "      <td>1</td>\n",
       "      <td>0.0</td>\n",
       "      <td>0.0</td>\n",
       "      <td>4056.4940</td>\n",
       "      <td>0.699070</td>\n",
       "    </tr>\n",
       "    <tr>\n",
       "      <th>6</th>\n",
       "      <td>NSW7</td>\n",
       "      <td>1</td>\n",
       "      <td>23</td>\n",
       "      <td>12</td>\n",
       "      <td>1</td>\n",
       "      <td>0</td>\n",
       "      <td>0</td>\n",
       "      <td>0</td>\n",
       "      <td>0.0</td>\n",
       "      <td>0.0</td>\n",
       "      <td>0.0000</td>\n",
       "      <td>0.653684</td>\n",
       "    </tr>\n",
       "    <tr>\n",
       "      <th>7</th>\n",
       "      <td>NSW8</td>\n",
       "      <td>1</td>\n",
       "      <td>32</td>\n",
       "      <td>11</td>\n",
       "      <td>1</td>\n",
       "      <td>0</td>\n",
       "      <td>0</td>\n",
       "      <td>1</td>\n",
       "      <td>0.0</td>\n",
       "      <td>0.0</td>\n",
       "      <td>8472.1580</td>\n",
       "      <td>0.789723</td>\n",
       "    </tr>\n",
       "    <tr>\n",
       "      <th>8</th>\n",
       "      <td>NSW9</td>\n",
       "      <td>1</td>\n",
       "      <td>22</td>\n",
       "      <td>16</td>\n",
       "      <td>1</td>\n",
       "      <td>0</td>\n",
       "      <td>0</td>\n",
       "      <td>0</td>\n",
       "      <td>0.0</td>\n",
       "      <td>0.0</td>\n",
       "      <td>2164.0220</td>\n",
       "      <td>0.779838</td>\n",
       "    </tr>\n",
       "    <tr>\n",
       "      <th>9</th>\n",
       "      <td>NSW10</td>\n",
       "      <td>1</td>\n",
       "      <td>33</td>\n",
       "      <td>12</td>\n",
       "      <td>0</td>\n",
       "      <td>0</td>\n",
       "      <td>1</td>\n",
       "      <td>0</td>\n",
       "      <td>0.0</td>\n",
       "      <td>0.0</td>\n",
       "      <td>12418.0700</td>\n",
       "      <td>0.042925</td>\n",
       "    </tr>\n",
       "  </tbody>\n",
       "</table>\n",
       "</div>"
      ],
      "text/plain": [
       "      id  treat  age  educ  black  hispan  married  nodegree  re74  re75  \\\n",
       "0   NSW1      1   37    11      1       0        1         1   0.0   0.0   \n",
       "1   NSW2      1   22     9      0       1        0         1   0.0   0.0   \n",
       "2   NSW3      1   30    12      1       0        0         0   0.0   0.0   \n",
       "3   NSW4      1   27    11      1       0        0         1   0.0   0.0   \n",
       "4   NSW5      1   33     8      1       0        0         1   0.0   0.0   \n",
       "5   NSW6      1   22     9      1       0        0         1   0.0   0.0   \n",
       "6   NSW7      1   23    12      1       0        0         0   0.0   0.0   \n",
       "7   NSW8      1   32    11      1       0        0         1   0.0   0.0   \n",
       "8   NSW9      1   22    16      1       0        0         0   0.0   0.0   \n",
       "9  NSW10      1   33    12      0       0        1         0   0.0   0.0   \n",
       "\n",
       "         re78  propensity_score  \n",
       "0   9930.0460          0.638770  \n",
       "1   3595.8940          0.224634  \n",
       "2  24909.4500          0.678244  \n",
       "3   7506.1460          0.776324  \n",
       "4    289.7899          0.701639  \n",
       "5   4056.4940          0.699070  \n",
       "6      0.0000          0.653684  \n",
       "7   8472.1580          0.789723  \n",
       "8   2164.0220          0.779838  \n",
       "9  12418.0700          0.042925  "
      ]
     },
     "execution_count": 104,
     "metadata": {},
     "output_type": "execute_result"
    }
   ],
   "source": [
    "''' your code and explanations '''\n",
    "# Create an empty graph with no nodes and edges\n",
    "G = nx.Graph()\n",
    "\n",
    "# Separate the dataset based on 'treat' (treat/control)\n",
    "treat = df[df['treat'] == 1]\n",
    "control = df[df['treat'] == 0]\n",
    "treat.head(10)"
   ]
  },
  {
   "cell_type": "markdown",
   "metadata": {},
   "source": [
    "For this task, we implement the simplest full optimal matching. In order to perform matching between pairs, a distance/similarity function is needed. Since the library used for the matching (networkx) has a function that maximizes the sum of weights between pairs, it is natural to use a function that measures similarity.\n",
    "\n",
    "To minimize the difference of propensity scores between pairs, we define the similarity function between two instances $x$ and $y$ like:\n",
    "\n",
    "$$ s(x,y) = 1 - | propensity\\_score(x) - propensity\\_score(y) |$$\n",
    "This function captures the difference in scores like a distance, but since the distance defined like that would always be between 0 and 1, subtracting it from 1 would be a meaningful measure to use for similarity."
   ]
  },
  {
   "cell_type": "code",
   "execution_count": 100,
   "metadata": {},
   "outputs": [],
   "source": [
    "# We define and realize the above similarity function\n",
    "def func_similarity(ps_x, ps_y):\n",
    "    similarity = 1 - np.abs(ps_x - ps_y)\n",
    "    return similarity"
   ]
  },
  {
   "cell_type": "code",
   "execution_count": 107,
   "metadata": {},
   "outputs": [],
   "source": [
    "# We use nested for loop to find all pairing combinations\n",
    "for control_idx, control_row in control.iterrows():\n",
    "    for treat_idx, treat_row in treat.iterrows():\n",
    "        # obtain the similarity for this pair\n",
    "        s = func_similarity(control_row['propensity_score'], treat_row['propensity_score'])\n",
    "        \n",
    "        # add a weighted edge to for each possible pair\n",
    "        G.add_weighted_edges_from([(control_idx, treat_idx, s)])\n",
    "        \n",
    "# Finally we find the optimal max-weight matching on the generated graph\n",
    "matching = nx.max_weight_matching(G)"
   ]
  },
  {
   "cell_type": "code",
   "execution_count": 186,
   "metadata": {},
   "outputs": [],
   "source": [
    "# We obtain a more balanced dataset via max-weight matching\n",
    "extracted_ids = []\n",
    "for idx in range(len(list(matching))):\n",
    "    (x, y) = list(matching)[idx]\n",
    "    extracted_ids.extend((x, y))\n",
    "    \n",
    "df_balanced_1 = df.iloc[extracted_ids]"
   ]
  },
  {
   "cell_type": "code",
   "execution_count": 187,
   "metadata": {},
   "outputs": [
    {
     "data": {
      "text/plain": [
       "<AxesSubplot:xlabel='treat', ylabel='age'>"
      ]
     },
     "execution_count": 187,
     "metadata": {},
     "output_type": "execute_result"
    },
    {
     "data": {
      "image/png": "[encoded data removed]",
      "text/plain": [
       "<Figure size 432x288 with 1 Axes>"
      ]
     },
     "metadata": {
      "needs_background": "light"
     },
     "output_type": "display_data"
    }
   ],
   "source": [
    "# See the effectiveness on treat & educ as an example\n",
    "# We could see that the age difference significantly balanced compare to the initial boxplot\n",
    "# But we still need to balance the races through matching for the \"balanced\" dataset\n",
    "sns.boxplot(x='treat', y='age', data=df, width=0.5)"
   ]
  },
  {
   "cell_type": "code",
   "execution_count": 188,
   "metadata": {},
   "outputs": [
    {
     "data": {
      "text/plain": [
       "<AxesSubplot:xlabel='treat', ylabel='age'>"
      ]
     },
     "execution_count": 188,
     "metadata": {},
     "output_type": "execute_result"
    },
    {
     "data": {
      "image/png": "[encoded data removed]",
      "text/plain": [
       "<Figure size 432x288 with 1 Axes>"
      ]
     },
     "metadata": {
      "needs_background": "light"
     },
     "output_type": "display_data"
    }
   ],
   "source": [
    "sns.boxplot(x='treat', y='age', data=df_balanced_1, width=0.5)"
   ]
  },
  {
   "cell_type": "markdown",
   "metadata": {},
   "source": [
    "## 5. Balancing the groups further\n",
    "\n",
    "Based on your comparison of feature-value distributions from part 4, are you fully satisfied with your matching?\n",
    "Would you say your dataset is sufficiently balanced?\n",
    "If not, in what ways could the \"balanced\" dataset you have obtained still not allow you to draw valid conclusions?\n",
    "\n",
    "Improve your matching by explicitly making sure that you match only subjects that have the same value for the problematic feature.\n",
    "Argue with numbers and plots that the two groups (treated and control) are now better balanced than after part 4.\n"
   ]
  },
  {
   "cell_type": "code",
   "execution_count": 139,
   "metadata": {
    "tags": []
   },
   "outputs": [],
   "source": [
    "''' your code and explanations '''\n",
    "# Similarly, now we add weighted edges to the graph for race features\n",
    "G = nx.Graph()\n",
    "\n",
    "for control_idx, control_row in control.iterrows():\n",
    "    for treat_idx, treat_row in treat.iterrows():\n",
    "        # We add a weighted edge only when the race info matches\n",
    "        if (treat_row['black'] == control_row['black']) and (treat_row['hispan'] == control_row['hispan']):\n",
    "            s = func_similarity(treat_row['propensity_score'], control_row['propensity_score'])\n",
    "            G.add_weighted_edges_from([(control_idx, treat_idx, s)])\n",
    "            \n",
    "# Find the optimal matching pairs\n",
    "matching_all = nx.max_weight_matching(G)"
   ]
  },
  {
   "cell_type": "code",
   "execution_count": 179,
   "metadata": {},
   "outputs": [],
   "source": [
    "extracted_ids = []\n",
    "for idx in range(len(list(matching_all))):\n",
    "    (x, y) = list(matching_all)[idx]\n",
    "    extracted_ids.extend((x, y))\n",
    "\n",
    "df_balanced_all = df.iloc[extracted_ids]"
   ]
  },
  {
   "cell_type": "markdown",
   "metadata": {},
   "source": [
    "## 6. A less naive analysis\n",
    "\n",
    "Compare the outcomes (`re78`) between treated and control subjects, as you've done in part 1, but now only for the matched dataset you've obtained from part 5.\n",
    "What do you conclude about the effectiveness of the job training program?"
   ]
  },
  {
   "cell_type": "code",
   "execution_count": 144,
   "metadata": {
    "tags": []
   },
   "outputs": [
    {
     "name": "stderr",
     "output_type": "stream",
     "text": [
      "/home/philipliu/anaconda3/envs/ada/lib/python3.8/site-packages/seaborn/distributions.py:2619: FutureWarning: `distplot` is a deprecated function and will be removed in a future version. Please adapt your code to use either `displot` (a figure-level function with similar flexibility) or `histplot` (an axes-level function for histograms).\n",
      "  warnings.warn(msg, FutureWarning)\n",
      "/home/philipliu/anaconda3/envs/ada/lib/python3.8/site-packages/seaborn/distributions.py:2619: FutureWarning: `distplot` is a deprecated function and will be removed in a future version. Please adapt your code to use either `displot` (a figure-level function with similar flexibility) or `histplot` (an axes-level function for histograms).\n",
      "  warnings.warn(msg, FutureWarning)\n"
     ]
    },
    {
     "data": {
      "text/plain": [
       "<Figure size 1296x864 with 0 Axes>"
      ]
     },
     "execution_count": 144,
     "metadata": {},
     "output_type": "execute_result"
    },
    {
     "data": {
      "image/png": "[encoded data removed]",
      "text/plain": [
       "<Figure size 432x288 with 1 Axes>"
      ]
     },
     "metadata": {
      "needs_background": "light"
     },
     "output_type": "display_data"
    },
    {
     "data": {
      "text/plain": [
       "<Figure size 1296x864 with 0 Axes>"
      ]
     },
     "metadata": {},
     "output_type": "display_data"
    }
   ],
   "source": [
    "''' your code and explanations '''\n",
    "# The original distribution plot\n",
    "ax1 = sns.distplot(treat_group['re78'], bins=20, hist=True, kde=True, label='treated')\n",
    "ax1 = sns.distplot(control_group['re78'], bins=20, hist=True, kde=True, label='control')\n",
    "ax1.set_title('Income Distribution Comparison, 1978')\n",
    "ax1.set(xlabel='Income', ylabel='Distribution Density')\n",
    "plt.legend()\n",
    "plt.figure(figsize = (18, 12))"
   ]
  },
  {
   "cell_type": "code",
   "execution_count": 180,
   "metadata": {},
   "outputs": [
    {
     "name": "stderr",
     "output_type": "stream",
     "text": [
      "/home/philipliu/anaconda3/envs/ada/lib/python3.8/site-packages/seaborn/distributions.py:2619: FutureWarning: `distplot` is a deprecated function and will be removed in a future version. Please adapt your code to use either `displot` (a figure-level function with similar flexibility) or `histplot` (an axes-level function for histograms).\n",
      "  warnings.warn(msg, FutureWarning)\n",
      "/home/philipliu/anaconda3/envs/ada/lib/python3.8/site-packages/seaborn/distributions.py:2619: FutureWarning: `distplot` is a deprecated function and will be removed in a future version. Please adapt your code to use either `displot` (a figure-level function with similar flexibility) or `histplot` (an axes-level function for histograms).\n",
      "  warnings.warn(msg, FutureWarning)\n"
     ]
    },
    {
     "data": {
      "text/plain": [
       "<Figure size 1296x864 with 0 Axes>"
      ]
     },
     "execution_count": 180,
     "metadata": {},
     "output_type": "execute_result"
    },
    {
     "data": {
      "image/png": "[encoded data removed]",
      "text/plain": [
       "<Figure size 432x288 with 1 Axes>"
      ]
     },
     "metadata": {
      "needs_background": "light"
     },
     "output_type": "display_data"
    },
    {
     "data": {
      "text/plain": [
       "<Figure size 1296x864 with 0 Axes>"
      ]
     },
     "metadata": {},
     "output_type": "display_data"
    }
   ],
   "source": [
    "# The balanced dataset's distribution plot\n",
    "treat_bl = df_balanced_all[df_balanced_all['treat'] == 1]\n",
    "control_bl = df_balanced_all[df_balanced_all['treat'] == 0]\n",
    "\n",
    "ax3 = sns.distplot(treat_bl['re78'], bins=20, hist=True, kde=True, label='treated')\n",
    "ax3 = sns.distplot(control_bl['re78'], bins=20, hist=True, kde=True, label='control')\n",
    "ax3.set_title('Income Distribution Comparison, Balanced Dataset, 1978')\n",
    "ax3.set(xlabel='Income', ylabel='Distribution Density')\n",
    "plt.legend()\n",
    "plt.figure(figsize = (18, 12))"
   ]
  },
  {
   "cell_type": "code",
   "execution_count": 181,
   "metadata": {},
   "outputs": [
    {
     "data": {
      "text/plain": [
       "count      116.000000\n",
       "mean      6375.738003\n",
       "std       6670.986821\n",
       "min          0.000000\n",
       "25%        758.102600\n",
       "50%       4648.736000\n",
       "75%      10160.440000\n",
       "max      36646.950000\n",
       "Name: re78, dtype: float64"
      ]
     },
     "execution_count": 181,
     "metadata": {},
     "output_type": "execute_result"
    }
   ],
   "source": [
    "treat_bl['re78'].describe()"
   ]
  },
  {
   "cell_type": "code",
   "execution_count": 182,
   "metadata": {},
   "outputs": [
    {
     "data": {
      "text/plain": [
       "count      116.000000\n",
       "mean      5095.456025\n",
       "std       6047.014862\n",
       "min          0.000000\n",
       "25%          0.000000\n",
       "50%       2256.488500\n",
       "75%       8942.092750\n",
       "max      20243.380000\n",
       "Name: re78, dtype: float64"
      ]
     },
     "execution_count": 182,
     "metadata": {},
     "output_type": "execute_result"
    }
   ],
   "source": [
    "control_bl['re78'].describe()"
   ]
  },
  {
   "cell_type": "markdown",
   "metadata": {},
   "source": [
    "After group balancing, the above less \"naive\" analysis shows that the training program is actually effective, since\n",
    "people in the treated group (with training program) tend to have a more concentrated distribution on a higher income \n",
    "interval and the mean, upper quartile, lower quartile, and median income values are all higher than those in the control\n",
    "group (without training program)."
   ]
  },
  {
   "cell_type": "code",
   "execution_count": null,
   "metadata": {},
   "outputs": [],
   "source": []
  }
 ],
 "metadata": {
  "kernelspec": {
   "display_name": "Python 3 (ipykernel)",
   "language": "python",
   "name": "python3"
  },
  "language_info": {
   "codemirror_mode": {
    "name": "ipython",
    "version": 3
   },
   "file_extension": ".py",
   "mimetype": "text/x-python",
   "name": "python",
   "nbconvert_exporter": "python",
   "pygments_lexer": "ipython3",
   "version": "3.8.11"
  },
  "varInspector": {
   "cols": {
    "lenName": 16,
    "lenType": 16,
    "lenVar": 40
   },
   "kernels_config": {
    "python": {
     "delete_cmd_postfix": "",
     "delete_cmd_prefix": "del ",
     "library": "var_list.py",
     "varRefreshCmd": "print(var_dic_list())"
    },
    "r": {
     "delete_cmd_postfix": ") ",
     "delete_cmd_prefix": "rm(",
     "library": "var_list.r",
     "varRefreshCmd": "cat(var_dic_list()) "
    }
   },
   "types_to_exclude": [
    "module",
    "function",
    "builtin_function_or_method",
    "instance",
    "_Feature"
   ],
   "window_display": false
  }
 },
 "nbformat": 4,
 "nbformat_minor": 4
}
